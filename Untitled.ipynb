{
 "cells": [
  {
   "cell_type": "code",
   "execution_count": 14,
   "metadata": {},
   "outputs": [
    {
     "name": "stdout",
     "output_type": "stream",
     "text": [
      "[4, 16, 36, 64]\n"
     ]
    }
   ],
   "source": [
    "l1 = [1, 2, 3, 4]\n",
    "l2 = [5, 6]\n",
    "l3 = [33, 44, 55, 66, 77]\n",
    "\n",
    "def func_pow(list_obj):\n",
    "    \"\"\"\n",
    "    This function will calculate pow(2) list members and will return as new list.\n",
    "    param: List object i.e list\n",
    "    return: New list on success nothing on failure\n",
    "    \"\"\"\n",
    "    if list_obj:\n",
    "        return [i**2 for i in list_obj]\n",
    "    else:\n",
    "        # If empty list then do nothing\n",
    "        pass\n",
    "\n",
    "def func_double(list_obj):\n",
    "    \"\"\"\n",
    "    This function will double list members and will return as new list.\n",
    "    param: List object i.e list\n",
    "    return: New list on success nothing on failure\n",
    "    \"\"\"\n",
    "    if list_obj:\n",
    "        return [i*2 for i in list_obj]\n",
    "    else:\n",
    "        # If empty list then do nothing\n",
    "        pass\n",
    "\n",
    "def final_result(var1):\n",
    "    return func_pow(func_double(var))\n",
    "    print(\"Hello\")\n",
    "\n",
    "print(final_result(l1))\n"
   ]
  },
  {
   "cell_type": "code",
   "execution_count": 4,
   "metadata": {},
   "outputs": [
    {
     "name": "stdout",
     "output_type": "stream",
     "text": [
      "Help on method_descriptor:\n",
      "\n",
      "upper(...)\n",
      "    S.upper() -> str\n",
      "    \n",
      "    Return a copy of S converted to uppercase.\n",
      "\n"
     ]
    }
   ],
   "source": [
    "help(str.upper)"
   ]
  },
  {
   "cell_type": "code",
   "execution_count": 15,
   "metadata": {},
   "outputs": [
    {
     "data": {
      "text/plain": [
       "9"
      ]
     },
     "execution_count": 15,
     "metadata": {},
     "output_type": "execute_result"
    }
   ],
   "source": [
    "def summer(a, b, c):\n",
    "    sum1 = a + b + c \n",
    "    return sum1\n",
    "\n",
    "summer(2, 3, 4)"
   ]
  },
  {
   "cell_type": "code",
   "execution_count": 25,
   "metadata": {},
   "outputs": [
    {
     "name": "stdout",
     "output_type": "stream",
     "text": [
      "10\n",
      "Inside function 20\n",
      "10\n"
     ]
    }
   ],
   "source": [
    "a = 10\n",
    "\n",
    "def empty_func():\n",
    "#     global a\n",
    "    a = 20\n",
    "    print(\"Inside function\", a)\n",
    "    return a\n",
    "\n",
    "print(a)\n",
    "empty_func()\n",
    "print(a)\n",
    "    "
   ]
  },
  {
   "cell_type": "code",
   "execution_count": 52,
   "metadata": {},
   "outputs": [
    {
     "name": "stdout",
     "output_type": "stream",
     "text": [
      "1 2 3\n",
      "(4, 5, 6, 7, 8, 111111)\n",
      "{'number': 45}\n",
      "None\n"
     ]
    }
   ],
   "source": [
    "def users(*args):\n",
    "    print(args)\n",
    "\n",
    "#users(\"Rzayev\", \"Shako\", 29, \"Yasamal\", 85, 99, 200)\n",
    "\n",
    "def summer(a, b, c, *args, **kwargs):\n",
    "    print(a, b, c)\n",
    "    print(args)\n",
    "    print(kwargs)\n",
    "    #return sum(args)\n",
    "        \n",
    "\n",
    "print(summer(1, 2, 3, 4, 5, 6, 7, 8, 111111, number=45))"
   ]
  },
  {
   "cell_type": "code",
   "execution_count": 72,
   "metadata": {},
   "outputs": [
    {
     "name": "stdout",
     "output_type": "stream",
     "text": [
      "{'a': 5, 'b': 6, 'c': 7}\n",
      "5 6 7\n",
      "5 6 7\n"
     ]
    }
   ],
   "source": [
    "dict1 = {\n",
    "    'a':5,\n",
    "    'b':6,\n",
    "    'c':7\n",
    "}\n",
    "\n",
    "print(dict1)\n",
    "\n",
    "def func_test(a, b, c):\n",
    "    print(a, b, c)\n",
    "\n",
    "func_test(**dict1)\n",
    "\n",
    "x = func_test\n",
    "x(**dict1)\n"
   ]
  },
  {
   "cell_type": "code",
   "execution_count": 73,
   "metadata": {},
   "outputs": [
    {
     "name": "stdout",
     "output_type": "stream",
     "text": [
      "This is b function\n",
      "This is a function\n"
     ]
    }
   ],
   "source": [
    "def a():\n",
    "    print(\"This is a function\")\n",
    "\n",
    "def b():\n",
    "    print(\"This is b function\")\n",
    "\n",
    "a, b = b, a\n",
    "a()\n",
    "b()"
   ]
  },
  {
   "cell_type": "code",
   "execution_count": 77,
   "metadata": {},
   "outputs": [
    {
     "name": "stdout",
     "output_type": "stream",
     "text": [
      "<code object summer at 0x7f1140f49d20, file \"<ipython-input-77-04c035374ad3>\", line 1>\n",
      "<code object substracter at 0x7f1140f30930, file \"<ipython-input-77-04c035374ad3>\", line 4>\n"
     ]
    },
    {
     "data": {
      "text/plain": [
       "-20"
      ]
     },
     "execution_count": 77,
     "metadata": {},
     "output_type": "execute_result"
    }
   ],
   "source": [
    "def summer(a, b):\n",
    "    return a + b\n",
    "\n",
    "def substracter(a, b):\n",
    "    return a - b\n",
    "\n",
    "dir(summer)\n",
    "print(summer.__code__)\n",
    "print(substracter.__code__)\n",
    "summer.__code__ = substracter.__code__\n",
    "summer(5, 25)"
   ]
  },
  {
   "cell_type": "code",
   "execution_count": 19,
   "metadata": {},
   "outputs": [
    {
     "data": {
      "text/plain": [
       "'ELSHAD, YOU ARE WELCOME'"
      ]
     },
     "execution_count": 19,
     "metadata": {},
     "output_type": "execute_result"
    }
   ],
   "source": [
    "def B(D):\n",
    "    def C(name):\n",
    "        result = D(name)\n",
    "        return result.upper()\n",
    "    \n",
    "    return C\n",
    "\n",
    "@B\n",
    "def A(name):\n",
    "    return f\"{name}, you are welcome\"\n",
    "\n",
    "A(\"Elshad\")"
   ]
  },
  {
   "cell_type": "code",
   "execution_count": null,
   "metadata": {},
   "outputs": [],
   "source": []
  }
 ],
 "metadata": {
  "kernelspec": {
   "display_name": "Python 3",
   "language": "python",
   "name": "python3"
  },
  "language_info": {
   "codemirror_mode": {
    "name": "ipython",
    "version": 3
   },
   "file_extension": ".py",
   "mimetype": "text/x-python",
   "name": "python",
   "nbconvert_exporter": "python",
   "pygments_lexer": "ipython3",
   "version": "3.6.5"
  }
 },
 "nbformat": 4,
 "nbformat_minor": 2
}
